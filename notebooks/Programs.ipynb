{
 "cells": [
  {
   "cell_type": "code",
   "execution_count": 5,
   "id": "initial_id",
   "metadata": {
    "collapsed": true,
    "ExecuteTime": {
     "end_time": "2023-12-07T17:37:57.413801Z",
     "start_time": "2023-12-07T17:37:55.850247Z"
    }
   },
   "outputs": [
    {
     "name": "stdout",
     "output_type": "stream",
     "text": [
      "Hello World 1\n",
      "Hello World 2\n",
      "Hello World 3\n"
     ]
    }
   ],
   "source": [
    "num= input('Geben sie eine Zahl ein: ')\n",
    "\n",
    "for i in range(1, int(num)+1):\n",
    "    print(\"Hello World\", i)"
   ]
  },
  {
   "cell_type": "code",
   "execution_count": 9,
   "outputs": [
    {
     "name": "stdout",
     "output_type": "stream",
     "text": [
      "17\n"
     ]
    }
   ],
   "source": [
    "#Get Quersum from a number\n",
    "i = input('Geben sie eine positive Ganzzahl ein: ')\n",
    "num = int(i)\n",
    "\n",
    "def quersum(num):\n",
    "    if num < 0: \n",
    "        num *= -1\n",
    "    if num == 0:\n",
    "        return int(0)\n",
    "    else: return int(num%10 + quersum(num/10))\n",
    "\n",
    "print(quersum(num))"
   ],
   "metadata": {
    "collapsed": false,
    "ExecuteTime": {
     "end_time": "2023-12-07T17:57:05.814459Z",
     "start_time": "2023-12-07T17:57:03.175329Z"
    }
   },
   "id": "da2f4f7ad1333b6f"
  },
  {
   "cell_type": "code",
   "execution_count": 8,
   "outputs": [
    {
     "name": "stdout",
     "output_type": "stream",
     "text": [
      "Start the game with a input\n",
      "Super getippt!\n"
     ]
    }
   ],
   "source": [
    "#Number guess game\n",
    "import random\n",
    "randNum = random.randint(1,9)\n",
    "print('Start the game with a input')\n",
    "while True:\n",
    "    inNum = int(input('Geben sie eine Zahl zwischen 1 und 9 ein: '))\n",
    "    if randNum == inNum:\n",
    "        print('Super getippt!')\n",
    "        break\n",
    "    elif randNum > inNum:\n",
    "        print('Nee, meine Zahl ist größer als deine!')\n",
    "    elif randNum < inNum:\n",
    "        print('Nee, meine Zahl ist kleiner als deine!')"
   ],
   "metadata": {
    "collapsed": false,
    "ExecuteTime": {
     "end_time": "2023-12-08T13:22:29.910480Z",
     "start_time": "2023-12-08T13:22:26.826145Z"
    }
   },
   "id": "d68fa417a1c3b853"
  },
  {
   "cell_type": "code",
   "execution_count": 31,
   "outputs": [
    {
     "name": "stdout",
     "output_type": "stream",
     "text": [
      "5040\n"
     ]
    }
   ],
   "source": [
    "#Get Fakultät from a number\n",
    "def factoral(num):\n",
    "    fak= 1\n",
    "    start = 1\n",
    "    if num == 0:\n",
    "        return 1\n",
    "    for start in range(start, num + 1):\n",
    "        fak = fak * start\n",
    "        if start == num:\n",
    "            return fak\n",
    "    \n",
    "num = input('Geben sie bitte eine positive Ganzzahl ein: ')\n",
    "print(factoral(int(num)))\n",
    "        \n",
    "    "
   ],
   "metadata": {
    "collapsed": false,
    "ExecuteTime": {
     "end_time": "2023-12-10T13:27:22.932725Z",
     "start_time": "2023-12-10T13:27:21.398420Z"
    }
   },
   "id": "fa284c15043a8bcd"
  },
  {
   "cell_type": "code",
   "execution_count": null,
   "outputs": [],
   "source": [],
   "metadata": {
    "collapsed": false
   },
   "id": "94aa4a2052d2e4d1"
  }
 ],
 "metadata": {
  "kernelspec": {
   "display_name": "Python 3",
   "language": "python",
   "name": "python3"
  },
  "language_info": {
   "codemirror_mode": {
    "name": "ipython",
    "version": 2
   },
   "file_extension": ".py",
   "mimetype": "text/x-python",
   "name": "python",
   "nbconvert_exporter": "python",
   "pygments_lexer": "ipython2",
   "version": "2.7.6"
  }
 },
 "nbformat": 4,
 "nbformat_minor": 5
}
