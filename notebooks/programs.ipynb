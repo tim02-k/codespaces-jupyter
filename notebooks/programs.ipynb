{
 "cells": [
  {
   "cell_type": "code",
   "execution_count": 5,
   "id": "initial_id",
   "metadata": {
    "collapsed": true,
    "ExecuteTime": {
     "end_time": "2023-12-07T17:37:57.413801Z",
     "start_time": "2023-12-07T17:37:55.850247Z"
    }
   },
   "outputs": [
    {
     "name": "stdout",
     "output_type": "stream",
     "text": [
      "Hello World 1\n",
      "Hello World 2\n",
      "Hello World 3\n"
     ]
    }
   ],
   "source": [
    "num= input('Geben sie eine Zahl ein: ')\n",
    "\n",
    "for i in range(1, int(num)+1):\n",
    "    print(\"Hello World\", i)"
   ]
  },
  {
   "cell_type": "code",
   "execution_count": 9,
   "outputs": [
    {
     "name": "stdout",
     "output_type": "stream",
     "text": [
      "17\n"
     ]
    }
   ],
   "source": [
    "#Get Quersum from a number\n",
    "i = input('Geben sie eine positive Ganzzahl ein: ')\n",
    "num = int(i)\n",
    "\n",
    "def quersum(num):\n",
    "    if num < 0: \n",
    "        num *= -1\n",
    "    if num == 0:\n",
    "        return int(0)\n",
    "    else: return int(num%10 + quersum(num/10))\n",
    "\n",
    "print(quersum(num))"
   ],
   "metadata": {
    "collapsed": false,
    "ExecuteTime": {
     "end_time": "2023-12-07T17:57:05.814459Z",
     "start_time": "2023-12-07T17:57:03.175329Z"
    }
   },
   "id": "da2f4f7ad1333b6f"
  },
  {
   "cell_type": "code",
   "execution_count": 8,
   "outputs": [
    {
     "name": "stdout",
     "output_type": "stream",
     "text": [
      "Start the game with a input\n",
      "Super getippt!\n"
     ]
    }
   ],
   "source": [
    "#Number guess game\n",
    "import random\n",
    "randNum = random.randint(1,9)\n",
    "print('Start the game with a input')\n",
    "while True:\n",
    "    inNum = int(input('Geben sie eine Zahl zwischen 1 und 9 ein: '))\n",
    "    if randNum == inNum:\n",
    "        print('Super getippt!')\n",
    "        break\n",
    "    elif randNum > inNum:\n",
    "        print('Nee, meine Zahl ist größer als deine!')\n",
    "    elif randNum < inNum:\n",
    "        print('Nee, meine Zahl ist kleiner als deine!')"
   ],
   "metadata": {
    "collapsed": false,
    "ExecuteTime": {
     "end_time": "2023-12-08T13:22:29.910480Z",
     "start_time": "2023-12-08T13:22:26.826145Z"
    }
   },
   "id": "d68fa417a1c3b853"
  },
  {
   "cell_type": "code",
   "execution_count": 31,
   "outputs": [
    {
     "name": "stdout",
     "output_type": "stream",
     "text": [
      "5040\n"
     ]
    }
   ],
   "source": [
    "#Get Fakultät from a number\n",
    "def factoral(num):\n",
    "    fak= 1\n",
    "    start = 1\n",
    "    if num == 0:\n",
    "        return 1\n",
    "    for start in range(start, num + 1):\n",
    "        fak = fak * start\n",
    "        if start == num:\n",
    "            return fak\n",
    "    \n",
    "num = input('Geben sie bitte eine positive Ganzzahl ein: ')\n",
    "print(factoral(int(num)))\n",
    "        \n",
    "    "
   ],
   "metadata": {
    "collapsed": false,
    "ExecuteTime": {
     "end_time": "2023-12-10T13:27:22.932725Z",
     "start_time": "2023-12-10T13:27:21.398420Z"
    }
   },
   "id": "fa284c15043a8bcd"
  },
  {
   "cell_type": "code",
   "execution_count": 4,
   "outputs": [
    {
     "name": "stdout",
     "output_type": "stream",
     "text": [
      "91\n"
     ]
    }
   ],
   "source": [
    "def alg(x):\n",
    "    if x > 100:\n",
    "        return x - 10\n",
    "    else: \n",
    "        return alg(alg(x + 11))\n",
    "    \n",
    "print(alg(int(input('Geben sie bitte eine Zahl ein: '))))"
   ],
   "metadata": {
    "collapsed": false,
    "ExecuteTime": {
     "end_time": "2023-12-12T15:30:21.477108Z",
     "start_time": "2023-12-12T15:30:19.801724Z"
    }
   },
   "id": "232dfa1e49a9ee2d"
  },
  {
   "cell_type": "code",
   "execution_count": 7,
   "outputs": [
    {
     "name": "stdout",
     "output_type": "stream",
     "text": [
      "1\n"
     ]
    }
   ],
   "source": [
    "def alg1(g):\n",
    "    if g == 1:\n",
    "        return 1\n",
    "    else: \n",
    "        return alg1(alg2(g))\n",
    "    \n",
    "def alg2(h):\n",
    "    if h%2 == 0:\n",
    "        return h/2\n",
    "    else: \n",
    "        return 3*h+1\n",
    "\n",
    "print(alg1(int(input('Geben sie bitte eine Zahl ein: '))))"
   ],
   "metadata": {
    "collapsed": false,
    "ExecuteTime": {
     "end_time": "2023-12-12T15:33:50.692553Z",
     "start_time": "2023-12-12T15:33:49.542708Z"
    }
   },
   "id": "3eacb5a77095e058"
  },
  {
   "cell_type": "code",
   "execution_count": 6,
   "outputs": [
    {
     "name": "stdout",
     "output_type": "stream",
     "text": [
      "computer chooses  p\n",
      "It's a tie\n"
     ]
    }
   ],
   "source": [
    "import random\n",
    "\n",
    "def is_win(player, opponent):\n",
    "    #return true if player wins\n",
    "    #r > s, s > p, p > r\n",
    "    if (player == 'r' and opponent == 's') or (player == 's' and opponent == 'p') \\\n",
    "        or (player == 'p' and opponent == 'r'):\n",
    "        return True\n",
    "\n",
    "def play():\n",
    "    user = input(\"What's your choice? 'r' for rock, 'p' for paper, 's' for scissors\\n\")\n",
    "    computer = random.choice(['r','p','s'])\n",
    "    \n",
    "    if user == computer:\n",
    "        print('computer chooses ', computer)\n",
    "        return 'It\\'s a tie'\n",
    "    \n",
    "    # r > s, s > p, p > r\n",
    "    if is_win(user, computer):\n",
    "        print('computer chooses ', computer)\n",
    "        return 'You won!'\n",
    "    else:\n",
    "        print('computer chooses ', computer)\n",
    "        return 'You lost!'\n",
    "\n",
    "print(play())"
   ],
   "metadata": {
    "collapsed": false,
    "ExecuteTime": {
     "end_time": "2023-12-13T19:20:37.442624Z",
     "start_time": "2023-12-13T19:20:35.183702Z"
    }
   },
   "id": "cab44a49745cf934"
  },
  {
   "cell_type": "code",
   "execution_count": 1,
   "outputs": [],
   "source": [
    "        "
   ],
   "metadata": {
    "collapsed": false,
    "ExecuteTime": {
     "end_time": "2023-12-14T17:49:26.141492Z",
     "start_time": "2023-12-14T17:49:25.908330Z"
    }
   },
   "id": "aba58f7c9834ae71"
  }
 ],
 "metadata": {
  "kernelspec": {
   "display_name": "Python 3",
   "language": "python",
   "name": "python3"
  },
  "language_info": {
   "codemirror_mode": {
    "name": "ipython",
    "version": 2
   },
   "file_extension": ".py",
   "mimetype": "text/x-python",
   "name": "python",
   "nbconvert_exporter": "python",
   "pygments_lexer": "ipython2",
   "version": "2.7.6"
  }
 },
 "nbformat": 4,
 "nbformat_minor": 5
}
